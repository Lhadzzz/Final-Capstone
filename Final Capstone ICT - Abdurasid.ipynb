{
 "cells": [
  {
   "cell_type": "code",
   "execution_count": null,
   "id": "cecf63f8-0003-4025-b3c6-5d6f1a821a6b",
   "metadata": {},
   "outputs": [],
   "source": [
    "import pandas as pd\n",
    "import numpy as np\n",
    "import matplotlib.pyplot as plt\n",
    "import seaborn as sns\n",
    "from scipy import stats\n",
    "import statsmodels.api as sm"
   ]
  },
  {
   "cell_type": "code",
   "execution_count": null,
   "id": "6efd411c-0fb0-4c88-885b-36d57798f379",
   "metadata": {},
   "outputs": [],
   "source": [
    "df = pd.read_csv(\"FDatasets.csv\")"
   ]
  },
  {
   "cell_type": "code",
   "execution_count": null,
   "id": "0d40a87d-c05c-410d-a83f-89cb1f9c7f51",
   "metadata": {},
   "outputs": [],
   "source": [
    "df.columns = df.columns.str.strip()\n",
    "df.rename(columns={\n",
    "    'Crude Oil Production BBL per Day (Thousands': 'Crude_Oil_Production',\n",
    "    'Natural Gas Production Billion Cubic Feet per Day': 'Gas_Production',\n",
    "    'GDP Billion USD': 'GDP'\n",
    "}, inplace=True)"
   ]
  },
  {
   "cell_type": "code",
   "execution_count": null,
   "id": "c5e4e66b-9bf7-4d14-b0a7-4d6d9bd955ca",
   "metadata": {},
   "outputs": [],
   "source": [
    "# Convert to numeric and drop missing values"
   ]
  },
  {
   "cell_type": "code",
   "execution_count": null,
   "id": "87f33cf3-f606-4702-93f5-c9e5c7a38c58",
   "metadata": {},
   "outputs": [],
   "source": [
    "df['Crude_Oil_Production'] = pd.to_numeric(df['Crude_Oil_Production'], errors='coerce')\n",
    "df['Gas_Production'] = pd.to_numeric(df['Gas_Production'], errors='coerce')\n",
    "df['GDP'] = pd.to_numeric(df['GDP'], errors='coerce')\n",
    "df.dropna(inplace=True)"
   ]
  },
  {
   "cell_type": "code",
   "execution_count": null,
   "id": "31056137-5334-4ec3-9e63-c4aeba494c22",
   "metadata": {},
   "outputs": [],
   "source": [
    "# NumPy Operations"
   ]
  },
  {
   "cell_type": "code",
   "execution_count": null,
   "id": "f51675ea-5dec-43c6-b7b2-b537a6e525d3",
   "metadata": {},
   "outputs": [],
   "source": [
    "mean_oil = np.mean(df['Crude_Oil_Production'])\n",
    "median_gas = np.median(df['Gas_Production'])\n",
    "std_gdp = np.std(df['GDP'])\n",
    "max_oil = np.max(df['Crude_Oil_Production'])\n",
    "min_gdp = np.min(df['GDP'])\n",
    "\n",
    "print(\"NumPy Operations:\")\n",
    "print(f\"Mean Crude Oil Production: {mean_oil}\")\n",
    "print(f\"Median Gas Production: {median_gas}\")\n",
    "print(f\"Standard Deviation of GDP: {std_gdp}\")\n",
    "print(f\"Max Crude Oil Production: {max_oil}\")\n",
    "print(f\"Min GDP: {min_gdp}\")\n",
    "print(\"-\" * 50)"
   ]
  },
  {
   "cell_type": "code",
   "execution_count": null,
   "id": "9c7b1783-83a1-4551-9ace-32b643eeab26",
   "metadata": {},
   "outputs": [],
   "source": [
    "# SciPy Operation"
   ]
  },
  {
   "cell_type": "code",
   "execution_count": null,
   "id": "565ddd7a-00d8-4238-9daf-20125cdd9494",
   "metadata": {},
   "outputs": [],
   "source": [
    "corr_coef, p_value = stats.pearsonr(df['Crude_Oil_Production'], df['GDP'])\n",
    "print(\"SciPy Pearson Correlation:\")\n",
    "print(f\"Correlation coefficient: {corr_coef}\")\n",
    "print(f\"P-value: {p_value}\")\n",
    "print(\"-\" * 50)"
   ]
  },
  {
   "cell_type": "code",
   "execution_count": null,
   "id": "4b849938-a9f5-4bbb-ba97-4f7c7e1f82d8",
   "metadata": {},
   "outputs": [],
   "source": [
    "# Statsmodels Operation "
   ]
  },
  {
   "cell_type": "code",
   "execution_count": null,
   "id": "3863e9ca-5332-4f9d-a185-dbeaa0846cd7",
   "metadata": {},
   "outputs": [],
   "source": [
    "X = sm.add_constant(df['Crude_Oil_Production'])  # Add constant (intercept)\n",
    "y = df['GDP']\n",
    "model = sm.OLS(y, X).fit()\n",
    "print(\"Statsmodels OLS Regression Summary:\")\n",
    "print(model.summary())\n",
    "print(\"-\" * 50)"
   ]
  },
  {
   "cell_type": "code",
   "execution_count": null,
   "id": "d9ec75de-ec6b-4e8f-b3e3-b71d54bbde8e",
   "metadata": {},
   "outputs": [],
   "source": [
    "# Time Series of Oil Production"
   ]
  },
  {
   "cell_type": "code",
   "execution_count": null,
   "id": "bad2ad49-97f9-49af-b178-47ddd3e57f5e",
   "metadata": {},
   "outputs": [],
   "source": [
    "plt.figure(figsize=(10, 5))\n",
    "sns.lineplot(x='Year', y='Crude_Oil_Production', hue='Country', data=df)\n",
    "plt.title('Crude Oil Production Over Time')\n",
    "plt.ylabel('Thousands of Barrels per Day')\n",
    "plt.xlabel('Year')\n",
    "plt.xticks(rotation=45)\n",
    "plt.tight_layout()\n",
    "plt.show()"
   ]
  },
  {
   "cell_type": "code",
   "execution_count": null,
   "id": "ee661920-fc1b-4cf8-bb9e-bf7b0c89ee0d",
   "metadata": {},
   "outputs": [],
   "source": [
    "# Scatter with Regression Line"
   ]
  },
  {
   "cell_type": "code",
   "execution_count": null,
   "id": "b38edf4a-cf8e-4949-bb42-38c4282d6ca1",
   "metadata": {},
   "outputs": [],
   "source": [
    "plt.figure(figsize=(8, 6))\n",
    "sns.regplot(x='Crude_Oil_Production', y='GDP', data=df)\n",
    "plt.title('Crude Oil Production vs GDP')\n",
    "plt.xlabel('Crude Oil Production (Thousands of BBL/day)')\n",
    "plt.ylabel('GDP (Billion USD)')\n",
    "plt.tight_layout()\n",
    "plt.show()"
   ]
  },
  {
   "cell_type": "code",
   "execution_count": null,
   "id": "33cf475c-958e-481c-8031-d5105a297202",
   "metadata": {},
   "outputs": [],
   "source": [
    "# Correlation Heatmap"
   ]
  },
  {
   "cell_type": "code",
   "execution_count": null,
   "id": "af7e30f7-6aaa-4d1c-b880-b81ddb28c250",
   "metadata": {},
   "outputs": [],
   "source": [
    "plt.figure(figsize=(6, 4))\n",
    "corr_matrix = df[['Crude_Oil_Production', 'Gas_Production', 'GDP']].corr()\n",
    "sns.heatmap(corr_matrix, annot=True, cmap='coolwarm', fmt=\".2f\")\n",
    "plt.title('Correlation Matrix')\n",
    "plt.tight_layout()\n",
    "plt.show()\n"
   ]
  },
  {
   "cell_type": "code",
   "execution_count": null,
   "id": "b8b640ad-8417-4c38-91b2-b2b039440ee4",
   "metadata": {},
   "outputs": [],
   "source": []
  }
 ],
 "metadata": {
  "kernelspec": {
   "display_name": "Python 3 (ipykernel)",
   "language": "python",
   "name": "python3"
  },
  "language_info": {
   "codemirror_mode": {
    "name": "ipython",
    "version": 3
   },
   "file_extension": ".py",
   "mimetype": "text/x-python",
   "name": "python",
   "nbconvert_exporter": "python",
   "pygments_lexer": "ipython3",
   "version": "3.12.7"
  }
 },
 "nbformat": 4,
 "nbformat_minor": 5
}
